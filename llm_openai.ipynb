{
 "cells": [
  {
   "cell_type": "markdown",
   "id": "c3563831-9030-4af3-9422-47a8ed6fe6fd",
   "metadata": {},
   "source": [
    "# ***LLM Model based on OpenAI***"
   ]
  },
  {
   "cell_type": "markdown",
   "id": "643439fc-a7b2-459b-8446-e65849854d8b",
   "metadata": {},
   "source": [
    "## Defining API key"
   ]
  },
  {
   "cell_type": "markdown",
   "id": "9a607d47-166f-4abe-8a5d-65f28a54db31",
   "metadata": {},
   "source": [
    "Importing OpenAI key from a python file"
   ]
  },
  {
   "cell_type": "code",
   "execution_count": 1,
   "id": "e06b294b-a700-468b-ae44-5ccd713ffd09",
   "metadata": {},
   "outputs": [],
   "source": [
    "from secret_keys import openai_key"
   ]
  },
  {
   "cell_type": "code",
   "execution_count": 2,
   "id": "1f2b036f-8b11-4183-b135-406ed6cc11ee",
   "metadata": {},
   "outputs": [],
   "source": [
    "import os\n",
    "os.environ[\"OPENAI_API_KEY\"] = openai_key"
   ]
  },
  {
   "cell_type": "markdown",
   "id": "f6612fa5-1120-4b66-a6c9-3ff46ce041fe",
   "metadata": {},
   "source": [
    "## Creating LLM model object"
   ]
  },
  {
   "cell_type": "markdown",
   "id": "f0a85efc-b0f0-4b12-ad32-c73d253b1362",
   "metadata": {},
   "source": [
    "Defining model name"
   ]
  },
  {
   "cell_type": "code",
   "execution_count": 3,
   "id": "94421b5b-b191-4119-aa6f-428fa4f88772",
   "metadata": {},
   "outputs": [],
   "source": [
    "model_name = \"gpt-3.5-turbo\""
   ]
  },
  {
   "cell_type": "markdown",
   "id": "7999a621-7eb0-4839-ab92-ca46dbe619c5",
   "metadata": {},
   "source": [
    "Importing libraries from LangChain"
   ]
  },
  {
   "cell_type": "code",
   "execution_count": 4,
   "id": "d02164d1-03db-447a-9e59-a70f6dd6061d",
   "metadata": {},
   "outputs": [],
   "source": [
    "from langchain_openai import ChatOpenAI\n",
    "from langchain.schema import HumanMessage, SystemMessage"
   ]
  },
  {
   "cell_type": "markdown",
   "id": "2324e3be-5a71-4030-8552-3fd25baf51f1",
   "metadata": {},
   "source": [
    "Making an object of the LLM model"
   ]
  },
  {
   "cell_type": "code",
   "execution_count": 5,
   "id": "9a3d89e9-cf5c-4585-9fdf-7fb9d12dc104",
   "metadata": {},
   "outputs": [],
   "source": [
    "llm = ChatOpenAI(model_name=model_name, temperature=0)"
   ]
  },
  {
   "cell_type": "markdown",
   "id": "be4fa0d5-4f78-4ba8-9191-ab556731d2b6",
   "metadata": {},
   "source": [
    "## Asking questions to LLM Model"
   ]
  },
  {
   "cell_type": "code",
   "execution_count": 6,
   "id": "b55916e0-54eb-4ea0-b6e2-bf2d31ad3e8b",
   "metadata": {},
   "outputs": [],
   "source": [
    "messages = [\n",
    "    [\n",
    "        SystemMessage(content=\"You are a helpful assistant that give good answers to specific questions.\")\n",
    "    ],\n",
    "    [\n",
    "        HumanMessage(content=\"Who is Shoaib Sikander?\")\n",
    "    ],\n",
    "]"
   ]
  },
  {
   "cell_type": "markdown",
   "id": "6934dbac-6806-4b60-b122-4e2339b9d4dc",
   "metadata": {},
   "source": [
    "Producing an answer"
   ]
  },
  {
   "cell_type": "code",
   "execution_count": 7,
   "id": "b04379a3-dfda-45ea-8fd7-82291bea9738",
   "metadata": {},
   "outputs": [],
   "source": [
    "output=llm.generate(messages)\n",
    "#print(output)"
   ]
  },
  {
   "cell_type": "markdown",
   "id": "99c4ea91-ba55-4bdb-ab48-0915eafc5df0",
   "metadata": {},
   "source": [
    "Extracting response from the answer"
   ]
  },
  {
   "cell_type": "code",
   "execution_count": 8,
   "id": "1537bdc2-8d9d-456c-9515-e509e2d51fbe",
   "metadata": {},
   "outputs": [
    {
     "name": "stdout",
     "output_type": "stream",
     "text": [
      "QUESTION: Who is Shoaib Sikander?\n",
      "ANSWER: Shoaib Akhtar, also known as the \"Rawalpindi Express,\" is a former Pakistani cricketer who is considered one of the fastest bowlers in the history of the game. He was known for his raw pace and aggressive bowling style.\n",
      "\n"
     ]
    }
   ],
   "source": [
    "#print question and answer\n",
    "print('QUESTION: ' + messages[1][0].content)\n",
    "print('ANSWER: ' + output.generations[1][0].message.content + '\\n')"
   ]
  },
  {
   "cell_type": "markdown",
   "id": "1473ab10-5aba-4109-9ecb-278cb94dd95f",
   "metadata": {},
   "source": [
    "Printing token usage and model name"
   ]
  },
  {
   "cell_type": "code",
   "execution_count": 9,
   "id": "449a306b-01e6-4113-91a0-a0b08876a592",
   "metadata": {},
   "outputs": [
    {
     "name": "stdout",
     "output_type": "stream",
     "text": [
      "{'token_usage': {'completion_tokens': 61, 'prompt_tokens': 35, 'total_tokens': 96}, 'model_name': 'gpt-3.5-turbo', 'system_fingerprint': 'fp_c2295e73ad'}\n"
     ]
    }
   ],
   "source": [
    "print(output.llm_output)"
   ]
  },
  {
   "cell_type": "markdown",
   "id": "e29e8ea9-7c7b-427f-99d8-81c9315677d5",
   "metadata": {},
   "source": [
    "## Updating model's knowledge base with our own data"
   ]
  },
  {
   "cell_type": "markdown",
   "id": "45625011-3cef-4d18-a80b-464b25d1f260",
   "metadata": {},
   "source": [
    "#### Importing libraries"
   ]
  },
  {
   "cell_type": "markdown",
   "id": "d51fed1b-b5e1-419b-a7ae-5b43a492c504",
   "metadata": {},
   "source": [
    "Importing libraries for loading a PDF file"
   ]
  },
  {
   "cell_type": "code",
   "execution_count": 10,
   "id": "98299595-748b-4306-87c2-4bb95a7cb8dd",
   "metadata": {},
   "outputs": [],
   "source": [
    "from langchain_community.document_loaders import UnstructuredFileLoader\n",
    "from langchain_community.document_loaders import UnstructuredPDFLoader"
   ]
  },
  {
   "cell_type": "markdown",
   "id": "8e5f5524-70f4-4825-9c2e-f0c5a7ed5fbc",
   "metadata": {},
   "source": [
    "#### Loading PDF file containing knowledge and preparing pre-processing"
   ]
  },
  {
   "cell_type": "markdown",
   "id": "6eb33f4b-22b9-47c4-baf1-84bdab859a61",
   "metadata": {},
   "source": [
    "Loading PDF file"
   ]
  },
  {
   "cell_type": "code",
   "execution_count": 11,
   "id": "ca1e1121-792d-4999-a51e-65bdc41bb101",
   "metadata": {},
   "outputs": [],
   "source": [
    "loader = UnstructuredPDFLoader('File.pdf')\n",
    "documents = loader.load()"
   ]
  },
  {
   "cell_type": "markdown",
   "id": "881dc27b-41a2-4dc2-a2a5-9b20da53fc25",
   "metadata": {},
   "source": [
    "Splitting the text loaded from document"
   ]
  },
  {
   "cell_type": "code",
   "execution_count": 12,
   "id": "1a24314c-88ad-4365-ace1-de4cca09c1e3",
   "metadata": {},
   "outputs": [
    {
     "name": "stdout",
     "output_type": "stream",
     "text": [
      "[Document(page_content='Muhammad Shoaib Sikander is a 32-year-old man. He belongs to Pakistan and currently living in Germany. He completed his bachelor’s in electrical engineering from University of The Punjab in Lahore, Pakistan and Masters in Control, Microsystem, Microelectronics from University of Bremen, Germany. Currently he is working as a Software Engineer for AI Solutions in LS telcom AG, Germany.', metadata={'source': 'File.pdf'})]\n"
     ]
    }
   ],
   "source": [
    "SIZE=1000\n",
    "\n",
    "from langchain.text_splitter import CharacterTextSplitter\n",
    "text_splitter = CharacterTextSplitter(chunk_size=SIZE, chunk_overlap=0)\n",
    "texts = text_splitter.split_documents(documents)\n",
    "print(texts)\n",
    "#print(len(texts))"
   ]
  },
  {
   "cell_type": "markdown",
   "id": "760962e9-1ce0-474b-a036-24353d97e5c4",
   "metadata": {},
   "source": [
    "#### Embeddings"
   ]
  },
  {
   "cell_type": "markdown",
   "id": "c80272db-54bb-4060-9ed1-464dde7e8bd5",
   "metadata": {},
   "source": [
    "Loading the embeddings"
   ]
  },
  {
   "cell_type": "code",
   "execution_count": 13,
   "id": "2b9ab792-9f4d-4b2a-8880-2c3d84e9f368",
   "metadata": {},
   "outputs": [],
   "source": [
    "#from langchain.embeddings import OpenAIEmbeddings\n",
    "from langchain_openai import OpenAIEmbeddings"
   ]
  },
  {
   "cell_type": "code",
   "execution_count": 14,
   "id": "f43bcaa3-0fcc-45c4-88e3-b0d501c7b4a9",
   "metadata": {},
   "outputs": [],
   "source": [
    "embeddings = OpenAIEmbeddings()"
   ]
  },
  {
   "cell_type": "markdown",
   "id": "32c26cae-9da8-4317-acdc-81af1445290c",
   "metadata": {},
   "source": [
    "#### VectorDB"
   ]
  },
  {
   "cell_type": "markdown",
   "id": "0def9df3-b9fd-46ea-87b9-10eee18d4ea4",
   "metadata": {},
   "source": [
    "Saving into Vector Database"
   ]
  },
  {
   "cell_type": "code",
   "execution_count": 15,
   "id": "d90f7468-1d70-4576-9769-322040632330",
   "metadata": {},
   "outputs": [],
   "source": [
    "from langchain_community.vectorstores import Chroma"
   ]
  },
  {
   "cell_type": "code",
   "execution_count": 16,
   "id": "a04496df-d759-441f-b188-8ddd57d101e6",
   "metadata": {},
   "outputs": [],
   "source": [
    "db = Chroma.from_documents(texts, embeddings)"
   ]
  },
  {
   "cell_type": "markdown",
   "id": "3b5e1ed4-bf34-473c-865b-be2e6d0b0d3a",
   "metadata": {},
   "source": [
    "#### Updating the model"
   ]
  },
  {
   "cell_type": "markdown",
   "id": "204273e3-f3fa-4f73-a9bd-6b388ef9a759",
   "metadata": {},
   "source": [
    "Updating the model's knowledge base with new data"
   ]
  },
  {
   "cell_type": "code",
   "execution_count": 17,
   "id": "dfd3700b-25e4-4388-b9ef-7ee8e50f390f",
   "metadata": {},
   "outputs": [],
   "source": [
    "from langchain.chains import VectorDBQA\n",
    "#from langchain.chains import RetrievalQA\n",
    "from langchain_community.chat_models import ChatOpenAI"
   ]
  },
  {
   "cell_type": "code",
   "execution_count": 18,
   "id": "b6aaa173-b2fb-42db-8be2-e89ab9a7aee7",
   "metadata": {},
   "outputs": [
    {
     "name": "stderr",
     "output_type": "stream",
     "text": [
      "/mnt/e/AI_LS_VirtualEnvs/Python310/VirtualEnv_LLM_OpenAI/lib/python3.10/site-packages/langchain/chains/retrieval_qa/base.py:256: UserWarning: `VectorDBQA` is deprecated - please use `from langchain.chains import RetrievalQA`\n",
      "  warnings.warn(\n"
     ]
    }
   ],
   "source": [
    "llm_updated = VectorDBQA.from_chain_type(llm=llm, chain_type=\"stuff\", vectorstore=db, k=1)\n",
    "#llm_updated = RetrievalQA.from_chain_type(llm=llm, chain_type=\"stuff\", vectorstore=db, k=1)"
   ]
  },
  {
   "cell_type": "markdown",
   "id": "95c91144-9d33-4ac7-bd19-32d390be4ca7",
   "metadata": {},
   "source": [
    "## Asking same question to the updated LLM model"
   ]
  },
  {
   "cell_type": "code",
   "execution_count": 19,
   "id": "2e019e4a-10ac-4f09-861e-2d4a48716fff",
   "metadata": {},
   "outputs": [
    {
     "name": "stdout",
     "output_type": "stream",
     "text": [
      "QUESTION: Who is Shoaib Sikander?\n",
      "ANSWER: Shoaib Sikander is a 32-year-old man from Pakistan who is currently living in Germany. He has a background in electrical engineering and works as a Software Engineer for AI Solutions in LS telcom AG, Germany.\n"
     ]
    }
   ],
   "source": [
    "question = \"Who is Shoaib Sikander?\"\n",
    "\n",
    "output = llm_updated.invoke(question)\n",
    "\n",
    "print('QUESTION: ' + output.get('query'))\n",
    "print('ANSWER: ' + output.get('result'))"
   ]
  },
  {
   "cell_type": "code",
   "execution_count": null,
   "id": "e6110b3c-84b1-4f59-9591-67235312f9c2",
   "metadata": {},
   "outputs": [],
   "source": []
  }
 ],
 "metadata": {
  "kernelspec": {
   "display_name": "VirtualEnv_LLM_OpenAI",
   "language": "python",
   "name": "virtualenv_llm_openai"
  },
  "language_info": {
   "codemirror_mode": {
    "name": "ipython",
    "version": 3
   },
   "file_extension": ".py",
   "mimetype": "text/x-python",
   "name": "python",
   "nbconvert_exporter": "python",
   "pygments_lexer": "ipython3",
   "version": "3.10.12"
  }
 },
 "nbformat": 4,
 "nbformat_minor": 5
}
